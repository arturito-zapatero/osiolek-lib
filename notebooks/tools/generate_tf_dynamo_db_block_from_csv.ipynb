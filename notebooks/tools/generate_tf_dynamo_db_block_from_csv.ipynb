{
 "cells": [
  {
   "metadata": {},
   "cell_type": "markdown",
   "source": "",
   "id": "7c2e0e675883f2e9"
  },
  {
   "metadata": {
    "ExecuteTime": {
     "end_time": "2025-08-04T12:39:49.117962Z",
     "start_time": "2025-08-04T12:39:49.088729Z"
    }
   },
   "cell_type": "code",
   "source": [
    "import os\n",
    "import pandas as pd\n",
    "from pathlib import Path\n",
    "\n",
    "# === CONFIG ===\n",
    "folder_path = \"data/inwent_tables_csv\"\n",
    "output_dir = \"terraform/modules/generated\"\n",
    "Path(output_dir).mkdir(parents=True, exist_ok=True)\n",
    "\n",
    "# === TYPE INFERENCE ===\n",
    "def infer_dynamodb_type(series: pd.Series) -> str:\n",
    "    if pd.api.types.is_integer_dtype(series) or pd.api.types.is_float_dtype(series):\n",
    "        return \"N\"\n",
    "    return \"S\"\n",
    "\n",
    "def guess_hash_key(columns):\n",
    "    candidates = [c for c in columns if c.lower().endswith(\"_id\") or c.lower() == \"id\"]\n",
    "    return candidates[0] if candidates else columns[0]\n",
    "\n",
    "def sanitize_table_name(name: str) -> str:\n",
    "    return name.lower().replace(\" \", \"_\").replace(\"-\", \"_\")\n",
    "\n",
    "# === PROCESS EACH CSV FILE ===\n",
    "for csv_file in Path(folder_path).glob(\"*.csv\"):\n",
    "    table_name = sanitize_table_name(csv_file.stem)\n",
    "    df = pd.read_csv(csv_file, nrows=1000)\n",
    "\n",
    "    attributes = [(col, infer_dynamodb_type(df[col])) for col in df.columns]\n",
    "    hash_key = guess_hash_key(df.columns)\n",
    "\n",
    "    attr_block = \",\\n    \".join(\n",
    "        [f'{{ name = \"{col}\", type = \"{dtype}\" }}' for col, dtype in attributes]\n",
    "    )\n",
    "\n",
    "    terraform_module = f\"\"\"\n",
    "module \"{table_name}_table\" {{\n",
    "  source     = \"./modules/dynamodb_table\"\n",
    "  table_name = \"{table_name}\"\n",
    "  hash_key   = \"{hash_key}\"\n",
    "\n",
    "  attributes = [\n",
    "    {attr_block}\n",
    "  ]\n",
    "}}\n",
    "\"\"\".strip()\n",
    "\n",
    "    # Save to file\n",
    "    output_file = Path(output_dir) / f\"{table_name}_table.tf\"\n",
    "    output_file.write_text(terraform_module)\n",
    "    print(f\"✅ Generated: {output_file}\")\n"
   ],
   "id": "db875a856be12c41",
   "outputs": [
    {
     "name": "stdout",
     "output_type": "stream",
     "text": [
      "✅ Generated: terraform/modules/generated/towary_table.tf\n",
      "✅ Generated: terraform/modules/generated/ceny_towarow_table.tf\n",
      "✅ Generated: terraform/modules/generated/akt_stan_mag_table.tf\n",
      "✅ Generated: terraform/modules/generated/klasy_towarow_table.tf\n"
     ]
    }
   ],
   "execution_count": 11
  }
 ],
 "metadata": {
  "kernelspec": {
   "display_name": "Python 3",
   "language": "python",
   "name": "python3"
  },
  "language_info": {
   "codemirror_mode": {
    "name": "ipython",
    "version": 2
   },
   "file_extension": ".py",
   "mimetype": "text/x-python",
   "name": "python",
   "nbconvert_exporter": "python",
   "pygments_lexer": "ipython2",
   "version": "2.7.6"
  }
 },
 "nbformat": 4,
 "nbformat_minor": 5
}
