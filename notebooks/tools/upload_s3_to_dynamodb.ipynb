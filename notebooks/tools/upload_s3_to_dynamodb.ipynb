{
 "cells": [
  {
   "metadata": {},
   "cell_type": "markdown",
   "source": [
    "# Todo:\n",
    "- write in batches\n",
    "- parallelized"
   ],
   "id": "6bef025eca982504"
  },
  {
   "cell_type": "code",
   "id": "initial_id",
   "metadata": {
    "collapsed": true,
    "ExecuteTime": {
     "end_time": "2025-08-27T13:19:37.599479Z",
     "start_time": "2025-08-27T13:19:36.048960Z"
    }
   },
   "source": [
    "import boto3\n",
    "import pandas as pd\n",
    "from decimal import Decimal\n",
    "\n",
    "# === CONFIG ===\n",
    "bucket = \"osiolek-data-tmp-bucket\"\n",
    "profile = \"artur-admin\"\n",
    "\n",
    "# Mapping: filename → table name\n",
    "file_table_map = {\n",
    "    #\"AKT_STAN_MAG.csv\": \"akt_stan_mag\",\n",
    "    #\"CENY_TOWAROW.csv\": \"ceny_towarow\",\n",
    "    #\"KLASY_TOWAROW.csv\": \"klasy_towarow\",\n",
    "    #\"TOWARY.csv\": \"towary\",\n",
    "    \"MAGAZYNY.csv\": \"magazyny\"\n",
    "}\n",
    "\n",
    "# Mapping: table name → hash key\n",
    "hash_key_map = {\n",
    "    #\"akt_stan_mag\": \"ID_TOWARU\",\n",
    "    #\"ceny_towarow\": \"ID_TOWARU\",\n",
    "    #\"klasy_towarow\": \"ID_KLASY\",\n",
    "    #\"towary\": \"ID_TOWARU\",\n",
    "    \"magazyny\": \"ID_MAGAZYNU\",\n",
    "}\n",
    "\n",
    "# === AWS SESSION ===\n",
    "session = boto3.Session(profile_name=profile)\n",
    "s3 = session.client(\"s3\")\n",
    "dynamodb = session.resource(\"dynamodb\")\n",
    "\n",
    "# === MAIN LOOP ===\n",
    "for file_name, table_name in file_table_map.items():\n",
    "    hash_key = hash_key_map[table_name]\n",
    "    print(f\"\\n🔄 Processing s3://{bucket}/{file_name} → DynamoDB: {table_name} (hash key: {hash_key})\")\n",
    "\n",
    "    try:\n",
    "        # Read file from S3\n",
    "        obj = s3.get_object(Bucket=bucket, Key=file_name)\n",
    "        df = pd.read_csv(obj[\"Body\"])\n",
    "\n",
    "        # Deduplicate by hash key\n",
    "        if hash_key in df.columns:\n",
    "            df = df.drop_duplicates(subset=[hash_key])\n",
    "        else:\n",
    "            raise ValueError(f\"❌ Column '{hash_key}' not found in {file_name}\")\n",
    "\n",
    "        if file_name in [\"TOWARY.csv\"]:\n",
    "            df[\"DATA_MODYFIKACJI\"] = pd.to_datetime(df[\"DATA_MODYFIKACJI\"])\n",
    "            df.sort_values(\"DATA_MODYFIKACJI\", ascending=False, inplace=True)\n",
    "            df = df.drop_duplicates(subset=[\"ID_TOWARU\"], keep=\"first\")\n",
    "            # Convert datetime back to ISO format strings (important for sorting in DynamoDB)\n",
    "            df[\"DATA_MODYFIKACJI\"] = df[\"DATA_MODYFIKACJI\"].dt.strftime(\"%Y-%m-%dT%H:%M:%S\")\n",
    "        elif file_name in [\"CENY_TOWAROW.csv\"]:\n",
    "            df[\"TS\"] = df[\"TS\"].apply(lambda x: int(x, 16) if isinstance(x, str) and x.startswith(\"0x\") else x)\n",
    "            df.sort_values(\"TS\", ascending=False, inplace=True)\n",
    "            df = df.drop_duplicates(subset=[\"ID_TOWARU\"], keep=\"first\")\n",
    "            df = df.dropna(subset=[\"ID_TOWARU\"])\n",
    "            df[\"FLAGA\"] = df[\"FLAGA\"].fillna(\"brak\")\n",
    "\n",
    "            df[\"CENA\"] = df[\"CENA\"].fillna(-1)\n",
    "            df[\"CENA_ZAKUPU\"] = df[\"CENA_ZAKUPU\"].fillna(-1)\n",
    "            df[\"MARZA\"] = df[\"MARZA\"].fillna(-1)\n",
    "            df[\"UPUST\"] = df[\"UPUST\"].fillna(-1)\n",
    "\n",
    "        elif file_name == \"KLASY_TOWAROW.csv\":\n",
    "            df[\"TS\"] = df[\"TS\"].apply(lambda x: int(x, 16) if isinstance(x, str) and x.startswith(\"0x\") else x)\n",
    "            df.sort_values(\"TS\", ascending=False, inplace=True)\n",
    "            df = df.drop_duplicates(subset=[\"ID_KLASY\"], keep=\"first\")\n",
    "\n",
    "            # Drop rows where NAZWA_KLASY is null or empty\n",
    "            df = df[df[\"NAZWA_KLASY\"].notnull() & (df[\"NAZWA_KLASY\"] != \"\")]\n",
    "\n",
    "            # Fix NAZWA_KLASY field\n",
    "            df[\"NAZWA_KLASY\"] = df[\"NAZWA_KLASY\"].apply(lambda x: x if pd.notna(x) and x != \"\" else None)\n",
    "\n",
    "            # Drop rows where index keys used in GSIs are missing\n",
    "            df[\"ID_TOWARU\"] = df[\"ID_TOWARU\"].fillna(-1)\n",
    "            df[\"ID_KLASY_NADRZ\"] = df[\"ID_KLASY_NADRZ\"].fillna(-1)\n",
    "\n",
    "            # Cast to string as DynamoDB expects \"S\" (string)\n",
    "            df[\"CZY_AKTYWNY\"] = df[\"CZY_AKTYWNY\"].astype(str)\n",
    "        if file_name in [\"MAGAZYNY.csv\"]:\n",
    "            #df[\"DATA_MODYFIKACJI\"] = pd.to_datetime(df[\"DATA_MODYFIKACJI\"])\n",
    "            #df.sort_values(\"DATA_MODYFIKACJI\", ascending=False, inplace=True)\n",
    "            df = df.drop_duplicates(subset=[\"ID_MAGAZYNU\"], keep=\"first\")\n",
    "            # Convert datetime back to ISO format strings (important for sorting in DynamoDB)\n",
    "            #df[\"DATA_MODYFIKACJI\"] = df[\"DATA_MODYFIKACJI\"].dt.strftime(\"%Y-%m-%dT%H:%M:%S\")\n",
    "\n",
    "        # Upload to DynamoDB\n",
    "        table = dynamodb.Table(table_name)\n",
    "        with table.batch_writer() as batch:\n",
    "            for row in df.to_dict(orient=\"records\"):\n",
    "                item = {}\n",
    "                for k, v in row.items():\n",
    "                    if pd.isna(v):\n",
    "                        item[k] = None\n",
    "                    elif isinstance(v, float):\n",
    "                        item[k] = Decimal(str(v))\n",
    "                    else:\n",
    "                        item[k] = v\n",
    "                batch.put_item(Item=item)\n",
    "\n",
    "        print(f\"✅ Uploaded {len(df)} deduplicated rows to table '{table_name}'\")\n",
    "\n",
    "    except Exception as e:\n",
    "        print(f\"❌ Error processing {file_name}: {e}, row: {row}\")\n"
   ],
   "outputs": [
    {
     "name": "stdout",
     "output_type": "stream",
     "text": [
      "\n",
      "🔄 Processing s3://osiolek-data-tmp-bucket/MAGAZYNY.csv → DynamoDB: magazyny (hash key: ID_MAGAZYNU)\n",
      "✅ Uploaded 2 deduplicated rows to table 'magazyny'\n"
     ]
    }
   ],
   "execution_count": 5
  },
  {
   "metadata": {
    "ExecuteTime": {
     "end_time": "2025-08-27T13:17:41.432452Z",
     "start_time": "2025-08-27T13:17:41.411277Z"
    }
   },
   "cell_type": "code",
   "source": "df",
   "id": "c48c1afd0e639519",
   "outputs": [
    {
     "ename": "NameError",
     "evalue": "name 'df' is not defined",
     "output_type": "error",
     "traceback": [
      "\u001B[31m---------------------------------------------------------------------------\u001B[39m",
      "\u001B[31mNameError\u001B[39m                                 Traceback (most recent call last)",
      "\u001B[36mCell\u001B[39m\u001B[36m \u001B[39m\u001B[32mIn[2]\u001B[39m\u001B[32m, line 1\u001B[39m\n\u001B[32m----> \u001B[39m\u001B[32m1\u001B[39m df\n",
      "\u001B[31mNameError\u001B[39m: name 'df' is not defined"
     ]
    }
   ],
   "execution_count": 2
  },
  {
   "metadata": {
    "ExecuteTime": {
     "end_time": "2025-08-06T14:26:40.425297Z",
     "start_time": "2025-08-06T14:26:40.421164Z"
    }
   },
   "cell_type": "code",
   "source": "df.dtypes",
   "id": "301bc6d63afd1016",
   "outputs": [
    {
     "data": {
      "text/plain": [
       "ID_GRUPY_CEN         int64\n",
       "ID_TOWARU            int64\n",
       "CENA               float64\n",
       "FLAGA               object\n",
       "CENA_MIN           float64\n",
       "CENA_MAX           float64\n",
       "CENA_ZAKUPU        float64\n",
       "MARZA              float64\n",
       "ZAOKRAGLENIA         int64\n",
       "UPUST              float64\n",
       "CZY_PROCENTOWE        bool\n",
       "CZY_FORMULY_CEN       bool\n",
       "TS                   int64\n",
       "dtype: object"
      ]
     },
     "execution_count": 6,
     "metadata": {},
     "output_type": "execute_result"
    }
   ],
   "execution_count": 6
  }
 ],
 "metadata": {
  "kernelspec": {
   "display_name": "Python 3",
   "language": "python",
   "name": "python3"
  },
  "language_info": {
   "codemirror_mode": {
    "name": "ipython",
    "version": 2
   },
   "file_extension": ".py",
   "mimetype": "text/x-python",
   "name": "python",
   "nbconvert_exporter": "python",
   "pygments_lexer": "ipython2",
   "version": "2.7.6"
  }
 },
 "nbformat": 4,
 "nbformat_minor": 5
}
